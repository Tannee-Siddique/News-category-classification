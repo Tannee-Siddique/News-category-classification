{
 "cells": [
  {
   "cell_type": "markdown",
   "metadata": {},
   "source": [
    "# Dataset description"
   ]
  },
  {
   "cell_type": "markdown",
   "metadata": {},
   "source": [
    "Group number: [your group number here]\n"
   ]
  },
  {
   "cell_type": "markdown",
   "metadata": {},
   "source": [
    "Team members: [a list of team members here]"
   ]
  },
  {
   "cell_type": "markdown",
   "metadata": {},
   "source": [
    "## Introduction"
   ]
  },
  {
   "cell_type": "markdown",
   "metadata": {},
   "source": [
    "- Dataset name\n",
    "- Authors\n",
    "- Source/URL\n",
    "- A brief description of what the dataset is about"
   ]
  },
  {
   "cell_type": "markdown",
   "metadata": {},
   "source": [
    "## General information"
   ]
  },
  {
   "cell_type": "markdown",
   "metadata": {},
   "source": [
    "- Data format\n",
    "- How many files/collections\n",
    "- Data size in terms of storage"
   ]
  },
  {
   "cell_type": "markdown",
   "metadata": {},
   "source": [
    "## Import data"
   ]
  },
  {
   "cell_type": "code",
   "execution_count": 10,
   "metadata": {},
   "outputs": [
    {
     "name": "stdout",
     "output_type": "stream",
     "text": [
      "Collection dropped successfully.\n",
      "Total number of documents to insert: 209527\n",
      "Inserted 209527 documents into MongoDB.\n"
     ]
    }
   ],
   "source": [
    "from pymongo import MongoClient\n",
    "import json\n",
    "import urllib.parse\n",
    "\n",
    "# Load credentials from JSON file\n",
    "with open('credentials_mongodb.json') as f:\n",
    "    login = json.load(f)\n",
    "\n",
    "# Assign credentials to variables\n",
    "username = login['username']\n",
    "password = urllib.parse.quote(login['password'])  # Ensure the password is URL encoded\n",
    "host = login['host']\n",
    "\n",
    "# Construct the MongoDB connection string\n",
    "url = f\"mongodb+srv://{username}:{password}@{host}/?retryWrites=true&w=majority\"\n",
    "\n",
    "# Connect to MongoDB\n",
    "client = MongoClient(url)\n",
    "\n",
    "# Select the database you want to use\n",
    "db = client['news_database']  # Replace with your database name\n",
    "\n",
    "# Drop the collection if it exists to free up space\n",
    "try:\n",
    "    db.drop_collection('news_collection')  # Replace with the collection name you want to delete\n",
    "    print(\"Collection dropped successfully.\")\n",
    "except Exception as e:\n",
    "    print(f\"Error dropping collection: {e}\")\n",
    "\n",
    "# Select the collection you want to use\n",
    "collection = db['news_collection']  # Replace with your collection name\n",
    "\n",
    "# Initialize an empty list to store the documents\n",
    "documents = []\n",
    "\n",
    "# Load the JSON file\n",
    "file_path = r\"C:\\Users\\tejaa\\Downloads\\archive (2)\\News_Category_Dataset_v3.json\"\n",
    "with open(file_path, 'r') as file:\n",
    "    for line in file:\n",
    "        # Each line is a separate JSON object/document\n",
    "        documents.append(json.loads(line))\n",
    "\n",
    "# Number of documents\n",
    "num_documents = len(documents)\n",
    "print(f\"Total number of documents to insert: {num_documents}\")\n",
    "\n",
    "# Insert the documents into MongoDB\n",
    "try:\n",
    "    collection.insert_many(documents)\n",
    "    print(f\"Inserted {num_documents} documents into MongoDB.\")\n",
    "except Exception as e:\n",
    "    print(f\"An error occurred while inserting data: {e}\")\n"
   ]
  },
  {
   "cell_type": "markdown",
   "metadata": {},
   "source": [
    "- Describe how many collections/how many documents\n",
    "- Describe the schema of the dataset/collection\n",
    "- Print out a sample document\n",
    "- List and briefly describe the most important fields/attributes in the dataset"
   ]
  },
  {
   "cell_type": "code",
   "execution_count": 11,
   "metadata": {},
   "outputs": [
    {
     "name": "stdout",
     "output_type": "stream",
     "text": [
      "Total number of collections: 1\n",
      "Collection 'news_collection' has 209527 documents.\n"
     ]
    }
   ],
   "source": [
    "#1 Describe how many collections/how many documents\n",
    "\n",
    "# Count the number of collections and documents in the database\n",
    "def describe_database(db):\n",
    "    # Get the list of collections in the database\n",
    "    collections = db.list_collection_names()\n",
    "    num_collections = len(collections)\n",
    "\n",
    "    print(f\"Total number of collections: {num_collections}\")\n",
    "\n",
    "    # Print the number of documents in each collection\n",
    "    for collection_name in collections:\n",
    "        collection = db[collection_name]\n",
    "        num_documents = collection.count_documents({})\n",
    "        print(f\"Collection '{collection_name}' has {num_documents} documents.\")\n",
    "\n",
    "# Call the function to describe the database\n",
    "describe_database(db)\n",
    "#"
   ]
  },
  {
   "cell_type": "markdown",
   "metadata": {},
   "source": [
    "```\n",
    "#2 Describe the schema of the dataset/collection\n",
    "The schema defines the structure of the documents in your dataset. Based on the JSON ,each document in the dataset follows this structure:\n",
    "\n",
    "link (String): The URL linking to the news article.\n",
    "headline (String): The headline or title of the news article.\n",
    "category (String): The category under which the article is classified (e.g., \"U.S. NEWS\", \"COMEDY\").\n",
    "short_description (String): A brief summary or description of the news article.\n",
    "authors (String): The author(s) of the article.\n",
    "date (String): The date the article was published, typically formatted as \"YYYY-MM-DD\"..\n",
    "```"
   ]
  },
  {
   "cell_type": "code",
   "execution_count": 13,
   "metadata": {},
   "outputs": [
    {
     "name": "stdout",
     "output_type": "stream",
     "text": [
      "Sample document:\n",
      "{\n",
      "    \"link\": \"https://www.huffpost.com/entry/covid-boosters-uptake-us_n_632d719ee4b087fae6feaac9\",\n",
      "    \"headline\": \"Over 4 Million Americans Roll Up Sleeves For Omicron-Targeted COVID Boosters\",\n",
      "    \"category\": \"U.S. NEWS\",\n",
      "    \"short_description\": \"Health experts said it is too early to predict whether demand would match up with the 171 million doses of the new boosters the U.S. ordered for the fall.\",\n",
      "    \"authors\": \"Carla K. Johnson, AP\",\n",
      "    \"date\": \"2022-09-23\",\n",
      "    \"_id\": \"66f08bfd13e93754c8f7305e\"\n",
      "}\n"
     ]
    }
   ],
   "source": [
    "#3 Print out a sample document\n",
    "from bson import ObjectId\n",
    "\n",
    "# Function to convert ObjectId to string\n",
    "def convert_objectid_to_string(doc):\n",
    "    if isinstance(doc, dict):\n",
    "        return {k: convert_objectid_to_string(v) for k, v in doc.items()}\n",
    "    elif isinstance(doc, list):\n",
    "        return [convert_objectid_to_string(i) for i in doc]\n",
    "    elif isinstance(doc, ObjectId):\n",
    "        return str(doc)\n",
    "    return doc\n",
    "\n",
    "#3 Print out a sample document\n",
    "if documents:\n",
    "    sample_document = documents[0]  # Get the first document\n",
    "    sample_document_str = convert_objectid_to_string(sample_document)\n",
    "    print(\"Sample document:\")\n",
    "    print(json.dumps(sample_document_str, indent=4))  # Pretty-print the sample document\n",
    "else:\n",
    "    print(\"No documents loaded to display.\")\n"
   ]
  },
  {
   "cell_type": "code",
   "execution_count": 14,
   "metadata": {},
   "outputs": [
    {
     "name": "stdout",
     "output_type": "stream",
     "text": [
      "Important fields/attributes in the dataset:\n",
      "link: A string containing the URL of the news article.\n",
      "headline: A string representing the headline or title of the article.\n",
      "category: A string indicating the category or section of the news article.\n",
      "short_description: A brief summary or description of the news article.\n",
      "authors: A string containing the name(s) of the author(s) of the article.\n",
      "date: A string representing the publication date of the article, typically in 'YYYY-MM-DD' format.\n"
     ]
    }
   ],
   "source": [
    "#4 List and briefly describe the most important fields/attributes in the dataset\n",
    "\n",
    "# Describing the most important fields/attributes\n",
    "fields_description = {\n",
    "    \"link\": \"A string containing the URL of the news article.\",\n",
    "    \"headline\": \"A string representing the headline or title of the article.\",\n",
    "    \"category\": \"A string indicating the category or section of the news article.\",\n",
    "    \"short_description\": \"A brief summary or description of the news article.\",\n",
    "    \"authors\": \"A string containing the name(s) of the author(s) of the article.\",\n",
    "    \"date\": \"A string representing the publication date of the article, typically in 'YYYY-MM-DD' format.\"\n",
    "}\n",
    "\n",
    "print(\"Important fields/attributes in the dataset:\")\n",
    "for field, description in fields_description.items():\n",
    "    print(f\"{field}: {description}\")\n"
   ]
  },
  {
   "cell_type": "markdown",
   "metadata": {},
   "source": [
    "## Submission instruction\n",
    "- Push the notebook to your group Github repository\n",
    "- Upload an URL to the `data-eda.ipynb` to Moodle under week 3 assignment"
   ]
  }
 ],
 "metadata": {
  "kernelspec": {
   "display_name": "adsc_3610",
   "language": "python",
   "name": "python3"
  },
  "language_info": {
   "codemirror_mode": {
    "name": "ipython",
    "version": 3
   },
   "file_extension": ".py",
   "mimetype": "text/x-python",
   "name": "python",
   "nbconvert_exporter": "python",
   "pygments_lexer": "ipython3",
   "version": "3.12.2"
  }
 },
 "nbformat": 4,
 "nbformat_minor": 2
}
