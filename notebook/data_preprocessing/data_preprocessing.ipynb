{
 "cells": [
  {
   "cell_type": "code",
   "execution_count": 1,
   "metadata": {},
   "outputs": [],
   "source": [
    "import pandas as pd\n",
    "import numpy as np\n",
    "import re\n",
    "from sklearn.model_selection import train_test_split\n",
    "from sklearn.preprocessing import LabelEncoder\n"
   ]
  },
  {
   "cell_type": "code",
   "execution_count": 6,
   "metadata": {},
   "outputs": [
    {
     "name": "stdout",
     "output_type": "stream",
     "text": [
      "Collection dropped successfully.\n",
      "Total number of documents to insert: 209527\n",
      "Inserted 209527 documents into MongoDB.\n"
     ]
    }
   ],
   "source": [
    "from pymongo import MongoClient\n",
    "import json\n",
    "import urllib.parse\n",
    "\n",
    "# Load credentials from JSON file\n",
    "with open('credentials_mongodb.json') as f:\n",
    "    login = json.load(f)\n",
    "\n",
    "# Assign credentials to variables\n",
    "username = login['username']\n",
    "password = urllib.parse.quote(login['password'])  # Ensure the password is URL encoded\n",
    "host = login['host']\n",
    "\n",
    "# Construct the MongoDB connection string\n",
    "url = f\"mongodb+srv://{username}:{password}@{host}/?retryWrites=true&w=majority\"\n",
    "\n",
    "# Connect to MongoDB\n",
    "client = MongoClient(url)\n",
    "\n",
    "# Select the database you want to use\n",
    "db = client['news_database']  # Replace with your database name\n",
    "\n",
    "# Drop the collection if it exists to free up space\n",
    "try:\n",
    "    db.drop_collection('news_collection')  # Replace with the collection name you want to delete\n",
    "    print(\"Collection dropped successfully.\")\n",
    "except Exception as e:\n",
    "    print(f\"Error dropping collection: {e}\")\n",
    "\n",
    "# Select the collection you want to use\n",
    "collection = db['news_collection']  # Replace with your collection name\n",
    "\n",
    "# Initialize an empty list to store the documents\n",
    "documents = []\n",
    "\n",
    "# Load the JSON file\n",
    "file_path = r\"C:\\Users\\tejaa\\Downloads\\archive (2)\\News_Category_Dataset_v3.json\"\n",
    "with open(file_path, 'r') as file:\n",
    "    for line in file:\n",
    "        # Each line is a separate JSON object/document\n",
    "        documents.append(json.loads(line))\n",
    "\n",
    "# Number of documents\n",
    "num_documents = len(documents)\n",
    "print(f\"Total number of documents to insert: {num_documents}\")\n",
    "\n",
    "# Insert the documents into MongoDB\n",
    "try:\n",
    "    collection.insert_many(documents)\n",
    "    print(f\"Inserted {num_documents} documents into MongoDB.\")\n",
    "except Exception as e:\n",
    "    print(f\"An error occurred while inserting data: {e}\")\n"
   ]
  },
  {
   "cell_type": "code",
   "execution_count": 8,
   "metadata": {},
   "outputs": [],
   "source": [
    "# Fetch all documents from the MongoDB collection\n",
    "articles = list(collection.find())\n",
    "\n",
    "# Convert to a pandas DataFrame\n",
    "df = pd.DataFrame(articles)"
   ]
  },
  {
   "cell_type": "code",
   "execution_count": 9,
   "metadata": {},
   "outputs": [
    {
     "name": "stdout",
     "output_type": "stream",
     "text": [
      "<class 'pandas.core.frame.DataFrame'>\n",
      "RangeIndex: 209527 entries, 0 to 209526\n",
      "Data columns (total 7 columns):\n",
      " #   Column             Non-Null Count   Dtype \n",
      "---  ------             --------------   ----- \n",
      " 0   _id                209527 non-null  object\n",
      " 1   link               209527 non-null  object\n",
      " 2   headline           209527 non-null  object\n",
      " 3   category           209527 non-null  object\n",
      " 4   short_description  209527 non-null  object\n",
      " 5   authors            209527 non-null  object\n",
      " 6   date               209527 non-null  object\n",
      "dtypes: object(7)\n",
      "memory usage: 11.2+ MB\n"
     ]
    }
   ],
   "source": [
    "df.info()"
   ]
  },
  {
   "cell_type": "code",
   "execution_count": 10,
   "metadata": {},
   "outputs": [
    {
     "name": "stdout",
     "output_type": "stream",
     "text": [
      "Data before cleaning:\n",
      "                        _id  \\\n",
      "0  672046f58761b82b18f64d70   \n",
      "1  672046f58761b82b18f64d71   \n",
      "2  672046f58761b82b18f64d72   \n",
      "3  672046f58761b82b18f64d73   \n",
      "4  672046f58761b82b18f64d74   \n",
      "\n",
      "                                                link  \\\n",
      "0  https://www.huffpost.com/entry/covid-boosters-...   \n",
      "1  https://www.huffpost.com/entry/american-airlin...   \n",
      "2  https://www.huffpost.com/entry/funniest-tweets...   \n",
      "3  https://www.huffpost.com/entry/funniest-parent...   \n",
      "4  https://www.huffpost.com/entry/amy-cooper-lose...   \n",
      "\n",
      "                                            headline   category  \\\n",
      "0  Over 4 Million Americans Roll Up Sleeves For O...  U.S. NEWS   \n",
      "1  American Airlines Flyer Charged, Banned For Li...  U.S. NEWS   \n",
      "2  23 Of The Funniest Tweets About Cats And Dogs ...     COMEDY   \n",
      "3  The Funniest Tweets From Parents This Week (Se...  PARENTING   \n",
      "4  Woman Who Called Cops On Black Bird-Watcher Lo...  U.S. NEWS   \n",
      "\n",
      "                                   short_description               authors  \\\n",
      "0  Health experts said it is too early to predict...  Carla K. Johnson, AP   \n",
      "1  He was subdued by passengers and crew when he ...        Mary Papenfuss   \n",
      "2  \"Until you have a dog you don't understand wha...         Elyse Wanshel   \n",
      "3  \"Accidentally put grown-up toothpaste on my to...      Caroline Bologna   \n",
      "4  Amy Cooper accused investment firm Franklin Te...        Nina Golgowski   \n",
      "\n",
      "         date  \n",
      "0  2022-09-23  \n",
      "1  2022-09-23  \n",
      "2  2022-09-23  \n",
      "3  2022-09-23  \n",
      "4  2022-09-22  \n"
     ]
    }
   ],
   "source": [
    "# Display the first few rows before cleaning\n",
    "print(\"Data before cleaning:\")\n",
    "print(df.head())"
   ]
  },
  {
   "cell_type": "code",
   "execution_count": 11,
   "metadata": {},
   "outputs": [
    {
     "data": {
      "text/plain": [
       "count       209527\n",
       "unique          42\n",
       "top       POLITICS\n",
       "freq         35602\n",
       "Name: category, dtype: object"
      ]
     },
     "execution_count": 11,
     "metadata": {},
     "output_type": "execute_result"
    }
   ],
   "source": [
    "#Summary of category column\n",
    "\n",
    "df['category'].describe()"
   ]
  },
  {
   "cell_type": "code",
   "execution_count": 12,
   "metadata": {},
   "outputs": [
    {
     "name": "stdout",
     "output_type": "stream",
     "text": [
      "False\n"
     ]
    }
   ],
   "source": [
    "# Check if there is at any duplicate in the DataFrame\n",
    "has_duplicates = df.duplicated().any()\n",
    "\n",
    "# Print True if there are duplicates\n",
    "print(has_duplicates)"
   ]
  },
  {
   "cell_type": "code",
   "execution_count": 13,
   "metadata": {},
   "outputs": [
    {
     "name": "stdout",
     "output_type": "stream",
     "text": [
      "Missing values in each column:\n",
      "Series([], dtype: int64)\n"
     ]
    }
   ],
   "source": [
    "#Handline missing values\n",
    "# Display the count of missing values in each column\n",
    "missing_values = df.isnull().sum()\n",
    "print(\"Missing values in each column:\")\n",
    "print(missing_values[missing_values > 0])  # Show only columns with missing values\n"
   ]
  },
  {
   "cell_type": "code",
   "execution_count": null,
   "metadata": {},
   "outputs": [],
   "source": [
    "# # Fill missing 'headline' and 'short_description' with placeholders\n",
    "# df['headline'] = df['headline'].fillna('Unknown [Missing]')\n",
    "# df['short_description'] = df['short_description'].fillna('No description available [Missing]')\n",
    "\n",
    "# # Optionally, drop rows with too many missing values if needed\n",
    "# df.dropna(subset=['headline', 'short_description'], inplace=True)\n"
   ]
  },
  {
   "cell_type": "code",
   "execution_count": 14,
   "metadata": {},
   "outputs": [],
   "source": [
    "#Text Cleaning\n",
    "def clean_text(text):\n",
    "    text = text.lower()  # Convert to lowercase\n",
    "    text = re.sub(r'http\\S+|www\\S+|https\\S+', '', text, flags=re.MULTILINE)  # Remove URLs\n",
    "    text = re.sub(r'\\[.*?\\]', '', text)  # Remove text in square brackets\n",
    "    text = re.sub(r'[^a-zA-Z\\s]', '', text)  # Remove special characters and numbers\n",
    "    return text.strip()\n",
    "\n",
    "# Apply text cleaning function\n",
    "df['cleaned_headline'] = df['headline'].apply(clean_text)\n",
    "df['cleaned_short_description'] = df['short_description'].apply(clean_text)\n"
   ]
  },
  {
   "cell_type": "code",
   "execution_count": 15,
   "metadata": {},
   "outputs": [
    {
     "name": "stdout",
     "output_type": "stream",
     "text": [
      "                                            headline  \\\n",
      "0  Over 4 Million Americans Roll Up Sleeves For O...   \n",
      "1  American Airlines Flyer Charged, Banned For Li...   \n",
      "2  23 Of The Funniest Tweets About Cats And Dogs ...   \n",
      "3  The Funniest Tweets From Parents This Week (Se...   \n",
      "4  Woman Who Called Cops On Black Bird-Watcher Lo...   \n",
      "\n",
      "                                    cleaned_headline  \\\n",
      "0  over  million americans roll up sleeves for om...   \n",
      "1  american airlines flyer charged banned for lif...   \n",
      "2  of the funniest tweets about cats and dogs thi...   \n",
      "3    the funniest tweets from parents this week sept   \n",
      "4  woman who called cops on black birdwatcher los...   \n",
      "\n",
      "                                   short_description  \\\n",
      "0  Health experts said it is too early to predict...   \n",
      "1  He was subdued by passengers and crew when he ...   \n",
      "2  \"Until you have a dog you don't understand wha...   \n",
      "3  \"Accidentally put grown-up toothpaste on my to...   \n",
      "4  Amy Cooper accused investment firm Franklin Te...   \n",
      "\n",
      "                           cleaned_short_description  \n",
      "0  health experts said it is too early to predict...  \n",
      "1  he was subdued by passengers and crew when he ...  \n",
      "2  until you have a dog you dont understand what ...  \n",
      "3  accidentally put grownup toothpaste on my todd...  \n",
      "4  amy cooper accused investment firm franklin te...  \n"
     ]
    }
   ],
   "source": [
    "print(df[['headline', 'cleaned_headline', 'short_description', 'cleaned_short_description']].head())\n"
   ]
  },
  {
   "cell_type": "code",
   "execution_count": 16,
   "metadata": {},
   "outputs": [],
   "source": [
    "#Feature engineering\n",
    "# Add word count and character count features\n",
    "df['headline_word_count'] = df['cleaned_headline'].apply(lambda x: len(x.split()))\n",
    "df['description_word_count'] = df['cleaned_short_description'].apply(lambda x: len(x.split()))\n",
    "df['headline_char_count'] = df['cleaned_headline'].apply(len)\n",
    "df['description_char_count'] = df['cleaned_short_description'].apply(len)\n"
   ]
  },
  {
   "cell_type": "code",
   "execution_count": 17,
   "metadata": {},
   "outputs": [],
   "source": [
    "#Tokenization and Encoding\n",
    "from transformers import RobertaTokenizer\n",
    "\n",
    "tokenizer = RobertaTokenizer.from_pretrained(\"roberta-base\")\n",
    "\n",
    "# Tokenize headline and short_description\n",
    "df['headline_tokens'] = df['cleaned_headline'].apply(lambda x: tokenizer.encode(x, add_special_tokens=True))\n",
    "df['description_tokens'] = df['cleaned_short_description'].apply(lambda x: tokenizer.encode(x, add_special_tokens=True))\n"
   ]
  },
  {
   "cell_type": "code",
   "execution_count": 18,
   "metadata": {},
   "outputs": [],
   "source": [
    "#Label Encoding for Category Column\n",
    "label_encoder = LabelEncoder()\n",
    "df['category_encoded'] = label_encoder.fit_transform(df['category'])"
   ]
  },
  {
   "cell_type": "code",
   "execution_count": 19,
   "metadata": {},
   "outputs": [],
   "source": [
    "#Data Splitting\n",
    "# Train-test split with stratification on 'category' if it’s imbalanced\n",
    "X = df[['cleaned_headline', 'cleaned_short_description', 'headline_tokens', 'description_tokens']]\n",
    "y = df['category_encoded']\n",
    "\n",
    "X_train, X_test, y_train, y_test = train_test_split(X, y, test_size=0.2, stratify=y, random_state=42)\n"
   ]
  },
  {
   "cell_type": "code",
   "execution_count": 23,
   "metadata": {},
   "outputs": [
    {
     "data": {
      "image/png": "[encoded data removed]",
      "text/plain": [
       "<Figure size 1000x800 with 2 Axes>"
      ]
     },
     "metadata": {},
     "output_type": "display_data"
    }
   ],
   "source": [
    "## Calculate and visualize the correlation matrix\n",
    "numeric_df = df.select_dtypes(include=['float64', 'int64'])  # Select only numeric columns\n",
    "correlation_matrix = numeric_df.corr()\n",
    "\n",
    "plt.figure(figsize=(10, 8))\n",
    "sns.heatmap(correlation_matrix, annot=True, cmap='coolwarm', fmt=\".2f\", vmin=-1, vmax=1)\n",
    "plt.title('Correlation Matrix')\n",
    "plt.show()"
   ]
  },
  {
   "cell_type": "code",
   "execution_count": null,
   "metadata": {},
   "outputs": [],
   "source": []
  }
 ],
 "metadata": {
  "kernelspec": {
   "display_name": "Python 3",
   "language": "python",
   "name": "python3"
  },
  "language_info": {
   "codemirror_mode": {
    "name": "ipython",
    "version": 3
   },
   "file_extension": ".py",
   "mimetype": "text/x-python",
   "name": "python",
   "nbconvert_exporter": "python",
   "pygments_lexer": "ipython3",
   "version": "3.12.2"
  }
 },
 "nbformat": 4,
 "nbformat_minor": 2
}
